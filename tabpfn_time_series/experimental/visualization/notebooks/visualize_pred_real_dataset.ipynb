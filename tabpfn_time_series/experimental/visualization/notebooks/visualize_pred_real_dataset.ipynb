{
 "cells": [
  {
   "cell_type": "markdown",
   "metadata": {},
   "source": [
    "# TabPFN-TS Prediction Visualization\n",
    "This notebook visualizes predictions from TabPFN-TS on various GIFT-Eval datasets."
   ]
  },
  {
   "cell_type": "code",
   "execution_count": 2,
   "metadata": {},
   "outputs": [
    {
     "data": {
      "text/plain": [
       "False"
      ]
     },
     "execution_count": 2,
     "metadata": {},
     "output_type": "execute_result"
    }
   ],
   "source": [
    "import os\n",
    "from dotenv import load_dotenv\n",
    "from pathlib import Path\n",
    "\n",
    "load_dotenv()\n",
    "\n",
    "# Configuration\n",
    "# dataset_storage_path = Path(os.getenv(\"DATASET_STORAGE_PATH\"))\n",
    "# root_output_dir = Path.cwd() / \"../output/pred_visualization\"\n",
    "\n",
    "# root_output_dir.mkdir(parents=True, exist_ok=True)\n"
   ]
  },
  {
   "cell_type": "code",
   "execution_count": 3,
   "metadata": {},
   "outputs": [
    {
     "ename": "ModuleNotFoundError",
     "evalue": "No module named 'gift_eval'",
     "output_type": "error",
     "traceback": [
      "\u001b[0;31m---------------------------------------------------------------------------\u001b[0m",
      "\u001b[0;31mModuleNotFoundError\u001b[0m                       Traceback (most recent call last)",
      "Cell \u001b[0;32mIn[3], line 6\u001b[0m\n\u001b[1;32m      3\u001b[0m \u001b[38;5;28;01mimport\u001b[39;00m \u001b[38;5;21;01mpandas\u001b[39;00m \u001b[38;5;28;01mas\u001b[39;00m \u001b[38;5;21;01mpd\u001b[39;00m\n\u001b[1;32m      4\u001b[0m \u001b[38;5;28;01mfrom\u001b[39;00m \u001b[38;5;21;01mautogluon\u001b[39;00m\u001b[38;5;21;01m.\u001b[39;00m\u001b[38;5;21;01mtimeseries\u001b[39;00m \u001b[38;5;28;01mimport\u001b[39;00m TimeSeriesDataFrame\n\u001b[0;32m----> 6\u001b[0m \u001b[38;5;28;01mfrom\u001b[39;00m \u001b[38;5;21;01mgift_eval\u001b[39;00m\u001b[38;5;21;01m.\u001b[39;00m\u001b[38;5;21;01mdata\u001b[39;00m \u001b[38;5;28;01mimport\u001b[39;00m Dataset\n\u001b[1;32m      7\u001b[0m \u001b[38;5;28;01mfrom\u001b[39;00m \u001b[38;5;21;01mgift_eval\u001b[39;00m\u001b[38;5;21;01m.\u001b[39;00m\u001b[38;5;21;01mdataset_definition\u001b[39;00m \u001b[38;5;28;01mimport\u001b[39;00m ALL_DATASETS\n\u001b[1;32m      8\u001b[0m \u001b[38;5;28;01mfrom\u001b[39;00m \u001b[38;5;21;01mgift_eval\u001b[39;00m\u001b[38;5;21;01m.\u001b[39;00m\u001b[38;5;21;01mtabpfn_ts_wrapper\u001b[39;00m \u001b[38;5;28;01mimport\u001b[39;00m TabPFNTSPredictor\n",
      "\u001b[0;31mModuleNotFoundError\u001b[0m: No module named 'gift_eval'"
     ]
    }
   ],
   "source": [
    "from pathlib import Path\n",
    "\n",
    "import pandas as pd\n",
    "from autogluon.timeseries import TimeSeriesDataFrame\n",
    "\n",
    "from gift_eval.data import Dataset\n",
    "from gift_eval.dataset_definition import ALL_DATASETS\n",
    "from gift_eval.tabpfn_ts_wrapper import TabPFNTSPredictor\n",
    "from tabpfn_time_series.plot import plot_pred_and_actual_ts\n",
    "from gift_eval.evaluate import construct_evaluation_data\n",
    "\n",
    "\n",
    "def load_dataset(dataset_name, term=\"short\", dataset_storage_path=None):\n",
    "    \"\"\"Load a dataset from GIFT-Eval.\"\"\"\n",
    "    if dataset_storage_path is None:\n",
    "        dataset_storage_path = Path(\"../gift_eval/data\")\n",
    "    \n",
    "    # Initialize the dataset\n",
    "    # First check if we need to convert to univariate\n",
    "    to_univariate = False\n",
    "    temp_dataset = Dataset(\n",
    "        name=dataset_name,\n",
    "        term=term,\n",
    "        to_univariate=False,\n",
    "        storage_path=dataset_storage_path,\n",
    "    )\n",
    "    if temp_dataset.target_dim > 1:\n",
    "        to_univariate = True\n",
    "    \n",
    "    # Load the actual dataset\n",
    "    dataset = Dataset(\n",
    "        name=dataset_name,\n",
    "        term=term,\n",
    "        to_univariate=to_univariate,\n",
    "        storage_path=dataset_storage_path,\n",
    "    )\n",
    "    \n",
    "    return dataset\n",
    "\n",
    "\n",
    "def get_predictions(dataset, item_id=0):\n",
    "    \"\"\"Generate predictions for a specific item in the dataset.\"\"\"\n",
    "    # Initialize predictor\n",
    "    tabpfn_predictor = TabPFNTSPredictor(\n",
    "        ds_prediction_length=dataset.prediction_length,\n",
    "        ds_freq=dataset.freq,\n",
    "    )\n",
    "    \n",
    "    # Get train and test data for the specific item\n",
    "    eval_data = dataset.test_data\n",
    "    random_sample = list(eval_data)[item_id]\n",
    "    \n",
    "    # Generate predictions\n",
    "    predictions = tabpfn_predictor.predict([random_sample[0]])\n",
    "\n",
    "    train_tsdf = tabpfn_predictor.convert_to_timeseries_dataframe([random_sample[0]])\n",
    "    test_tsdf = tabpfn_predictor.convert_to_timeseries_dataframe([random_sample[1]])\n",
    "    \n",
    "    return train_tsdf, test_tsdf, predictions\n",
    "\n",
    "\n",
    "def convert_to_tsdf(gluonts_data, is_train=True):\n",
    "    \"\"\"Convert GluonTS ListDataset to TimeSeriesDataFrame.\"\"\"\n",
    "    all_series = []\n",
    "    \n",
    "    for i, entry in enumerate(gluonts_data):\n",
    "        target = entry[\"target\"]\n",
    "        start_date = pd.Timestamp(entry[\"start\"])\n",
    "        _ = entry[\"feat_static_cat\"][0] if \"feat_static_cat\" in entry else 0\n",
    "        \n",
    "        # Create date range\n",
    "        dates = pd.date_range(\n",
    "            start=start_date,\n",
    "            periods=len(target),\n",
    "            freq=pd.infer_freq(pd.date_range(start=start_date, periods=5))\n",
    "        )\n",
    "        \n",
    "        # Create DataFrame\n",
    "        series_df = pd.DataFrame({\n",
    "            \"timestamp\": dates,\n",
    "            \"item_id\": i,\n",
    "            \"target\": target\n",
    "        })\n",
    "        series_df.set_index([\"item_id\", \"timestamp\"], inplace=True)\n",
    "        all_series.append(series_df)\n",
    "    \n",
    "    # Combine all series\n",
    "    combined_df = pd.concat(all_series)\n",
    "    tsdf = TimeSeriesDataFrame(combined_df)\n",
    "    \n",
    "    return tsdf\n",
    "\n",
    "\n",
    "def convert_forecast_to_tsdf(forecast, test_tsdf):\n",
    "    \"\"\"Convert GluonTS forecast to TimeSeriesDataFrame.\"\"\"\n",
    "    all_series = []\n",
    "    \n",
    "    for i, fcast in enumerate(forecast):\n",
    "        # Get the item's test data to extract timestamps\n",
    "        item_test = test_tsdf.loc[i]\n",
    "        timestamps = item_test.index\n",
    "        \n",
    "        # Create DataFrame with mean prediction and quantiles\n",
    "        series_data = {\n",
    "            \"timestamp\": timestamps,\n",
    "            \"item_id\": i,\n",
    "            \"target\": fcast.mean\n",
    "        }\n",
    "        \n",
    "        # Add quantiles\n",
    "        for q in [0.1, 0.5, 0.9]:\n",
    "            q_str = str(q)\n",
    "            series_data[q_str] = fcast.quantile(q)\n",
    "        \n",
    "        series_df = pd.DataFrame(series_data)\n",
    "        series_df.set_index([\"item_id\", \"timestamp\"], inplace=True)\n",
    "        all_series.append(series_df)\n",
    "    \n",
    "    # Combine all series\n",
    "    combined_df = pd.concat(all_series)\n",
    "    pred_tsdf = TimeSeriesDataFrame(combined_df)\n",
    "    \n",
    "    return pred_tsdf\n",
    "\n",
    "\n",
    "def visualize_dataset(dataset_name, term=\"short\", item_id=0):\n",
    "    print(f\"\\n## Dataset: {dataset_name} (term: {term})\")\n",
    "    \n",
    "    # Use construct_evaluation_data to get dataset\n",
    "    sub_datasets = construct_evaluation_data(\n",
    "        dataset_name=dataset_name,\n",
    "        dataset_storage_path=dataset_storage_path,\n",
    "        terms=[term]\n",
    "    )\n",
    "    \n",
    "    if not sub_datasets:\n",
    "        print(f\"No datasets found for {dataset_name} with term {term}\")\n",
    "        return\n",
    "    \n",
    "    # Get the first dataset that matches the term\n",
    "    dataset, dataset_metadata = sub_datasets[0]\n",
    "    \n",
    "    print(f\"Prediction length: {dataset.prediction_length}\")\n",
    "    print(f\"Frequency: {dataset.freq}\")\n",
    "    print(f\"Target dimension: {dataset.target_dim}\")\n",
    "    print(f\"Dataset full name: {dataset_metadata['full_name']}\")\n",
    "    \n",
    "    # Generate predictions\n",
    "    train_tsdf, test_tsdf, predictions = get_predictions(dataset, item_id)\n",
    "    \n",
    "    # Convert to TimeSeriesDataFrame\n",
    "    pred_tsdf = convert_forecast_to_tsdf(predictions, test_tsdf)\n",
    "    \n",
    "    # Visualize ground truth and predictions in the same plot\n",
    "    print(\"\\nGround truth and predictions:\")\n",
    "    output_dir = root_output_dir / term\n",
    "    output_dir.mkdir(parents=True, exist_ok=True)\n",
    "    plot_pred_and_actual_ts(pred_tsdf, train_tsdf, test_tsdf, item_ids=[item_id], show_points=True,\n",
    "                            hide_legend=True,\n",
    "                            title=f\"{dataset_name}/{term}\",\n",
    "                            save_path=output_dir / f\"{dataset_name.replace('/', '-')}-{term}.pdf\")\n",
    "\n",
    "\n",
    "def visualize_multiple_items(dataset_name, term=\"short\", item_ids=[0, 1, 2]):\n",
    "    print(f\"\\n## Dataset: {dataset_name} (term: {term})\")\n",
    "    \n",
    "    # Load dataset\n",
    "    try:\n",
    "        dataset = load_dataset(dataset_name, term, dataset_storage_path)\n",
    "        print(f\"Prediction length: {dataset.prediction_length}\")\n",
    "        print(f\"Frequency: {dataset.freq}\")\n",
    "        print(f\"Target dimension: {dataset.target_dim}\")\n",
    "        print(f\"Number of time series: {len(dataset.train_data)}\")\n",
    "        \n",
    "        # Generate predictions\n",
    "        train_data, test_data, predictions = get_predictions(dataset)\n",
    "        \n",
    "        # Convert to TimeSeriesDataFrame\n",
    "        train_tsdf = convert_to_tsdf(train_data, is_train=True)\n",
    "        test_tsdf = convert_to_tsdf(test_data, is_train=False)\n",
    "        pred_tsdf = convert_forecast_to_tsdf(predictions, test_tsdf)\n",
    "        \n",
    "        # Visualize multiple items\n",
    "        valid_item_ids = [i for i in item_ids if i < len(train_data)]\n",
    "        if not valid_item_ids:\n",
    "            print(f\"No valid item IDs found. Max item ID is {len(train_data)-1}\")\n",
    "            return False\n",
    "        \n",
    "        print(\"\\nGround truth and predictions for multiple items:\")\n",
    "        plot_pred_and_actual_ts(pred_tsdf, train_tsdf, test_tsdf, item_ids=valid_item_ids, show_points=True)\n",
    "        \n",
    "        return True\n",
    "    except Exception as e:\n",
    "        print(f\"Error visualizing {dataset_name}: {str(e)}\")\n",
    "        return False\n"
   ]
  },
  {
   "cell_type": "markdown",
   "metadata": {},
   "source": [
    "## Available Datasets\n",
    "Let's see what datasets are available in GIFT-Eval."
   ]
  },
  {
   "cell_type": "code",
   "execution_count": 3,
   "metadata": {},
   "outputs": [
    {
     "name": "stdout",
     "output_type": "stream",
     "text": [
      "Available datasets: 55\n",
      "1. ett2/W\n",
      "2. us_births/M\n",
      "3. us_births/D\n",
      "4. ett2/D\n",
      "5. bitbrains_fast_storage/H\n",
      "6. hospital\n",
      "7. m4_weekly\n",
      "8. m4_hourly\n",
      "9. SZ_TAXI/H\n",
      "10. car_parts_with_missing\n",
      "11. bizitobs_l2c/5T\n",
      "12. restaurant\n",
      "13. electricity/H\n",
      "14. solar/D\n",
      "15. saugeenday/M\n",
      "16. jena_weather/H\n",
      "17. jena_weather/D\n",
      "18. m4_yearly\n",
      "19. saugeenday/D\n",
      "20. LOOP_SEATTLE/D\n",
      "21. solar/W\n",
      "22. bitbrains_rnd/H\n",
      "23. ett1/15T\n",
      "24. bizitobs_service\n",
      "25. saugeenday/W\n",
      "26. hierarchical_sales/W\n",
      "27. M_DENSE/H\n",
      "28. bizitobs_application\n",
      "29. m4_quarterly\n",
      "30. ett1/H\n",
      "31. electricity/W\n",
      "32. solar/10T\n",
      "33. SZ_TAXI/15T\n",
      "34. bizitobs_l2c/H\n",
      "35. electricity/15T\n",
      "36. bitbrains_fast_storage/5T\n",
      "37. solar/H\n",
      "38. electricity/D\n",
      "39. LOOP_SEATTLE/5T\n",
      "40. ett2/H\n",
      "41. M_DENSE/D\n",
      "42. covid_deaths\n",
      "43. temperature_rain_with_missing\n",
      "44. LOOP_SEATTLE/H\n",
      "45. ett2/15T\n",
      "46. kdd_cup_2018_with_missing/H\n",
      "47. bitbrains_rnd/5T\n",
      "48. m4_daily\n",
      "49. us_births/W\n",
      "50. ett1/D\n",
      "51. jena_weather/10T\n",
      "52. kdd_cup_2018_with_missing/D\n",
      "53. hierarchical_sales/D\n",
      "54. m4_monthly\n",
      "55. ett1/W\n"
     ]
    }
   ],
   "source": [
    "# Print available datasets\n",
    "print(f\"Available datasets: {len(ALL_DATASETS)}\")\n",
    "for i, dataset in enumerate(ALL_DATASETS):\n",
    "    print(f\"{i+1}. {dataset}\")"
   ]
  },
  {
   "cell_type": "code",
   "execution_count": 4,
   "metadata": {},
   "outputs": [],
   "source": [
    "HUGE_DATASETS = [\n",
    "    \"bitbrains_rnd/5T\",\n",
    "    \"bitbrains_fast_storage/5T\",\n",
    "    \"electricity/15T\",\n",
    "    \"LOOP_SEATTLE/5T\",\n",
    "    \"LOOP_SEATTLE/H\",\n",
    "    \"temperature_rain_with_missing\",\n",
    "]"
   ]
  },
  {
   "cell_type": "markdown",
   "metadata": {},
   "source": [
    "## Visualization"
   ]
  },
  {
   "cell_type": "code",
   "execution_count": 5,
   "metadata": {},
   "outputs": [
    {
     "name": "stdout",
     "output_type": "stream",
     "text": [
      "\n",
      "## Dataset: solar/W (term: short)\n",
      "Prediction length: 8\n",
      "Frequency: W-FRI\n",
      "Target dimension: 1\n",
      "Dataset full name: solar/W/short\n"
     ]
    },
    {
     "name": "stderr",
     "output_type": "stream",
     "text": [
      "/home/liam_priorlabs_ai/tabpfn-time-series/tabpfn_time_series/features/feature_transformer.py:24: FutureWarning: The behavior of DataFrame concatenation with empty or all-NA entries is deprecated. In a future version, this will no longer exclude empty or all-NA columns when determining the result dtypes. To retain the old behavior, exclude the relevant entries before the concat operation.\n",
      "  tsdf = pd.concat([train_tsdf, test_tsdf])\n"
     ]
    },
    {
     "name": "stdout",
     "output_type": "stream",
     "text": [
      "  Welcome Back! Found existing access token, reusing it for authentication.\n"
     ]
    },
    {
     "name": "stderr",
     "output_type": "stream",
     "text": [
      "Predicting time series: 100%|██████████| 1/1 [00:00<00:00, 288.45it/s]\n"
     ]
    },
    {
     "name": "stdout",
     "output_type": "stream",
     "text": [
      "  Welcome Back! Found existing access token, reusing it for authentication.\n"
     ]
    },
    {
     "name": "stderr",
     "output_type": "stream",
     "text": [
      "Processing: 100%|██████████| [00:01<00:00]\n"
     ]
    },
    {
     "name": "stdout",
     "output_type": "stream",
     "text": [
      "\n",
      "Ground truth and predictions:\n"
     ]
    },
    {
     "data": {
      "image/png": "[encoded data removed]",
      "text/plain": [
       "<Figure size 1000x300 with 1 Axes>"
      ]
     },
     "metadata": {},
     "output_type": "display_data"
    }
   ],
   "source": [
    "visualize_dataset(\"solar/W\", term=\"short\")"
   ]
  },
  {
   "cell_type": "code",
   "execution_count": null,
   "metadata": {},
   "outputs": [],
   "source": []
  }
 ],
 "metadata": {
  "kernelspec": {
   "display_name": "rosen_time_series",
   "language": "python",
   "name": "time_series"
  },
  "language_info": {
   "codemirror_mode": {
    "name": "ipython",
    "version": 3
   },
   "file_extension": ".py",
   "mimetype": "text/x-python",
   "name": "python",
   "nbconvert_exporter": "python",
   "pygments_lexer": "ipython3",
   "version": "3.10.18"
  }
 },
 "nbformat": 4,
 "nbformat_minor": 2
}
