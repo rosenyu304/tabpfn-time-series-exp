{
 "cells": [
  {
   "cell_type": "markdown",
   "metadata": {},
   "source": [
    "# TabPFN-TS Prediction Visualization\n",
    "This notebook visualizes predictions from TabPFN-TS on various GIFT-Eval datasets."
   ]
  },
  {
   "cell_type": "code",
   "execution_count": 21,
   "metadata": {},
   "outputs": [],
   "source": [
    "import os\n",
    "from dotenv import load_dotenv\n",
    "from pathlib import Path\n",
    "\n",
    "load_dotenv()\n",
    "\n",
    "# Configuration\n",
    "# dataset_storage_path = Path(os.getenv(\"DATASET_STORAGE_PATH\"))\n",
    "root_output_dir = Path(\"tabpfn_time_series/experimental/visualization/figures_June2025\")\n",
    "\n",
    "root_output_dir.mkdir(parents=True, exist_ok=True)\n"
   ]
  },
  {
   "cell_type": "code",
   "execution_count": 67,
   "metadata": {},
   "outputs": [],
   "source": [
    "from pathlib import Path\n",
    "\n",
    "import pandas as pd\n",
    "from autogluon.timeseries import TimeSeriesDataFrame\n",
    "\n",
    "from gift_eval.data import Dataset\n",
    "from gift_eval.dataset_definition import ALL_DATASETS\n",
    "from gift_eval.tabpfn_ts_wrapper import TabPFNTSPredictor\n",
    "from tabpfn_time_series.plot import plot_pred_and_actual_ts\n",
    "from gift_eval.evaluate import construct_evaluation_data\n",
    "from tabpfn_time_series.predictor import TabPFNMode\n",
    "\n",
    "def load_dataset(dataset_name, term=\"short\", dataset_storage_path=None):\n",
    "    \"\"\"Load a dataset from GIFT-Eval.\"\"\"\n",
    "    if dataset_storage_path is None:\n",
    "        dataset_storage_path = Path(\"../gift_eval/data\")\n",
    "    \n",
    "    # Initialize the dataset\n",
    "    # First check if we need to convert to univariate\n",
    "    to_univariate = False\n",
    "    temp_dataset = Dataset(\n",
    "        name=dataset_name,\n",
    "        term=term,\n",
    "        to_univariate=False,\n",
    "        storage_path=dataset_storage_path,\n",
    "    )\n",
    "    if temp_dataset.target_dim > 1:\n",
    "        to_univariate = True\n",
    "    \n",
    "    # Load the actual dataset\n",
    "    dataset = Dataset(\n",
    "        name=dataset_name,\n",
    "        term=term,\n",
    "        to_univariate=to_univariate,\n",
    "        storage_path=dataset_storage_path,\n",
    "    )\n",
    "    \n",
    "    return dataset\n",
    "\n",
    "\n",
    "def get_predictions(dataset, item_id=0):\n",
    "    \"\"\"Generate predictions for a specific item in the dataset.\"\"\"\n",
    "    # Initialize predictor\n",
    "    tabpfn_predictor = TabPFNTSPredictor(\n",
    "        ds_prediction_length=dataset.prediction_length,\n",
    "        ds_freq=dataset.freq,\n",
    "        tabpfn_mode = TabPFNMode.LOCAL,\n",
    "    )\n",
    "    \n",
    "    # Get train and test data for the specific item\n",
    "    eval_data = dataset.test_data\n",
    "    random_sample = list(eval_data)[item_id]\n",
    "    \n",
    "    # Generate predictions\n",
    "    predictions = tabpfn_predictor.predict([random_sample[0]])\n",
    "\n",
    "    train_tsdf = tabpfn_predictor.convert_to_timeseries_dataframe([random_sample[0]])\n",
    "    test_tsdf = tabpfn_predictor.convert_to_timeseries_dataframe([random_sample[1]])\n",
    "    \n",
    "    return train_tsdf, test_tsdf, predictions\n",
    "\n",
    "\n",
    "def convert_to_tsdf(gluonts_data, is_train=True):\n",
    "    \"\"\"Convert GluonTS ListDataset to TimeSeriesDataFrame.\"\"\"\n",
    "    all_series = []\n",
    "    print(f\"gluonts_data: {gluonts_data}\")\n",
    "    \n",
    "    # for i, entry in enumerate(gluonts_data):\n",
    "    for i, entry in gluonts_data.groupby(level=\"item_id\"):\n",
    "        target = entry[\"target\"]\n",
    "        start_date = pd.Timestamp(entry[\"start\"])\n",
    "        _ = entry[\"feat_static_cat\"][0] if \"feat_static_cat\" in entry else 0\n",
    "        \n",
    "        # Create date range\n",
    "        dates = pd.date_range(\n",
    "            start=start_date,\n",
    "            periods=len(target),\n",
    "            freq=pd.infer_freq(pd.date_range(start=start_date, periods=5))\n",
    "        )\n",
    "        \n",
    "        # Create DataFrame\n",
    "        series_df = pd.DataFrame({\n",
    "            \"timestamp\": dates,\n",
    "            \"item_id\": i,\n",
    "            \"target\": target\n",
    "        })\n",
    "        series_df.set_index([\"item_id\", \"timestamp\"], inplace=True)\n",
    "        all_series.append(series_df)\n",
    "    \n",
    "    # Combine all series\n",
    "    combined_df = pd.concat(all_series)\n",
    "    tsdf = TimeSeriesDataFrame(combined_df)\n",
    "    \n",
    "    return tsdf\n",
    "\n",
    "\n",
    "def convert_forecast_to_tsdf(forecast, test_tsdf):\n",
    "    \"\"\"Convert GluonTS forecast to TimeSeriesDataFrame.\"\"\"\n",
    "    all_series = []\n",
    "    \n",
    "    for i, fcast in enumerate(forecast):\n",
    "        # Get the item's test data to extract timestamps\n",
    "        item_test = test_tsdf.loc[i]\n",
    "        timestamps = item_test.index\n",
    "        \n",
    "        # Create DataFrame with mean prediction and quantiles\n",
    "        series_data = {\n",
    "            \"timestamp\": timestamps,\n",
    "            \"item_id\": i,\n",
    "            \"target\": fcast.mean\n",
    "        }\n",
    "        \n",
    "        # Add quantiles\n",
    "        for q in [0.1, 0.5, 0.9]:\n",
    "            q_str = str(q)\n",
    "            series_data[q_str] = fcast.quantile(q)\n",
    "        \n",
    "        series_df = pd.DataFrame(series_data)\n",
    "        series_df.set_index([\"item_id\", \"timestamp\"], inplace=True)\n",
    "        all_series.append(series_df)\n",
    "    \n",
    "    # Combine all series\n",
    "    combined_df = pd.concat(all_series)\n",
    "    pred_tsdf = TimeSeriesDataFrame(combined_df)\n",
    "    \n",
    "    return pred_tsdf\n",
    "\n",
    "\n",
    "def visualize_dataset(dataset_name, term=\"short\", item_id=0):\n",
    "    print(f\"\\n## Dataset: {dataset_name} (term: {term})\")\n",
    "    \n",
    "    # Use construct_evaluation_data to get dataset\n",
    "    sub_datasets = construct_evaluation_data(\n",
    "        dataset_name=dataset_name,\n",
    "        dataset_storage_path=dataset_storage_path,\n",
    "        terms=[term]\n",
    "    )\n",
    "    \n",
    "    if not sub_datasets:\n",
    "        print(f\"No datasets found for {dataset_name} with term {term}\")\n",
    "        return\n",
    "    \n",
    "    # Get the first dataset that matches the term\n",
    "    dataset, dataset_metadata = sub_datasets[0]\n",
    "    \n",
    "    print(f\"Prediction length: {dataset.prediction_length}\")\n",
    "    print(f\"Frequency: {dataset.freq}\")\n",
    "    print(f\"Target dimension: {dataset.target_dim}\")\n",
    "    print(f\"Dataset full name: {dataset_metadata['full_name']}\")\n",
    "    \n",
    "    # Generate predictions\n",
    "    train_tsdf, test_tsdf, predictions = get_predictions(dataset, item_id)\n",
    "    \n",
    "    # Convert to TimeSeriesDataFrame\n",
    "    pred_tsdf = convert_forecast_to_tsdf(predictions, test_tsdf)\n",
    "    \n",
    "    # Visualize ground truth and predictions in the same plot\n",
    "    print(\"\\nGround truth and predictions:\")\n",
    "    output_dir = root_output_dir / term\n",
    "    output_dir.mkdir(parents=True, exist_ok=True)\n",
    "    plot_pred_and_actual_ts(pred_tsdf, train_tsdf, test_tsdf, item_ids=[item_id], show_points=True,\n",
    "                            hide_legend=True,\n",
    "                            title=f\"{dataset_name}/{term}\",\n",
    "                            save_path=output_dir / f\"{dataset_name.replace('/', '-')}-{term}.pdf\")\n",
    "    \n",
    "    # Compute MASE score\n",
    "    mase_results = quick_mase_evaluation(train_tsdf, test_tsdf, pred_tsdf, dataset.prediction_length)\n",
    "    \n",
    "    return mase_results\n",
    "\n",
    "\n",
    "def visualize_multiple_items(dataset_name, term=\"short\", item_ids=[0, 1, 2]):\n",
    "    print(f\"\\n## Dataset: {dataset_name} (term: {term})\")\n",
    "    \n",
    "    # Load dataset\n",
    "    # try:\n",
    "    dataset = load_dataset(dataset_name, term, dataset_storage_path)\n",
    "    print(f\"Prediction length: {dataset.prediction_length}\")\n",
    "    print(f\"Frequency: {dataset.freq}\")\n",
    "    print(f\"Target dimension: {dataset.target_dim}\")\n",
    "    print(f\"possible item ids: {dataset.__dict__.keys()}\")\n",
    "    # print(f\"Number of time series: {len(dataset.gluonts_dataset.train_data)}\")\n",
    "    \n",
    "    # Generate predictions\n",
    "    train_tsdf, test_tsdf, predictions = get_predictions(dataset, item_id = 7)\n",
    "    print(f\"Number of time series: {train_tsdf.item_ids}\")\n",
    "    \n",
    "    # Convert to TimeSeriesDataFrame\n",
    "    # print(f\"train_data: {train_data}\")\n",
    "    # print(f\"test_data: {test_data}\")\n",
    "    # print(f\"predictions: {predictions}\")\n",
    "    # train_tsdf = convert_to_tsdf(train_data, is_train=True)\n",
    "    # test_tsdf = convert_to_tsdf(test_data, is_train=False)\n",
    "    pred_tsdf = convert_forecast_to_tsdf(predictions, test_tsdf)\n",
    "    \n",
    "    print(f\"train_tsdf.item_ids: {train_tsdf.item_ids}\")\n",
    "    \n",
    "    # Visualize multiple items\n",
    "    valid_item_ids = [i for i in item_ids if i < len(train_tsdf.item_ids)]\n",
    "    if not valid_item_ids:\n",
    "        print(f\"No valid item IDs found. Max item ID is {len(train_tsdf)-1}\")\n",
    "        return False\n",
    "    \n",
    "    print(\"\\nGround truth and predictions for multiple items:\")\n",
    "    output_dir = root_output_dir / term\n",
    "    output_dir.mkdir(parents=True, exist_ok=True)\n",
    "    plot_pred_and_actual_ts(pred_tsdf, train_tsdf, test_tsdf, item_ids=valid_item_ids, show_points=True, \n",
    "                            title=f\"{dataset_name}/{term}\",\n",
    "                            save_path=output_dir / f\"{dataset_name.replace('/', '-')}-{term}.pdf\")\n",
    "    \n",
    "    # Compute MASE score\n",
    "    mase_results = quick_mase_evaluation(train_tsdf, test_tsdf, pred_tsdf, dataset.prediction_length)\n",
    "    \n",
    "    return mase_results\n",
    "    # except Exception as e:\n",
    "    #     print(f\"Error visualizing {dataset_name}: {str(e)}\")\n",
    "    #     return False\n"
   ]
  },
  {
   "cell_type": "markdown",
   "metadata": {},
   "source": [
    "## Rosen: MASE"
   ]
  },
  {
   "cell_type": "code",
   "execution_count": null,
   "metadata": {},
   "outputs": [],
   "source": []
  },
  {
   "cell_type": "code",
   "execution_count": 23,
   "metadata": {},
   "outputs": [],
   "source": [
    "def quick_mase_evaluation(train_tsdf, test_tsdf_ground_truth, pred, prediction_length):\n",
    "    \"\"\"\n",
    "    Compute MASE scores for each item_id and overall average.\n",
    "    \n",
    "    Returns:\n",
    "        pd.DataFrame: DataFrame with columns ['item_id', 'mase_score']\n",
    "                     Last row contains average with item_id='AVERAGE'\n",
    "    \"\"\"\n",
    "    from autogluon.timeseries.metrics.point import MASE\n",
    "    from autogluon.timeseries.utils.datetime import get_seasonality\n",
    "    import pandas as pd\n",
    "    \n",
    "    mase_results = []\n",
    "    \n",
    "    # Loop over each item_id and calculate MASE score\n",
    "    for item_id, df_item in train_tsdf.groupby(level=\"item_id\"):\n",
    "        mase_computer = MASE()\n",
    "        mase_computer.clear_past_metrics()\n",
    "        \n",
    "        pred[\"mean\"] = pred[\"target\"]\n",
    "        \n",
    "        mase_computer.save_past_metrics(\n",
    "            data_past=train_tsdf.loc[[item_id]],\n",
    "            seasonal_period=get_seasonality(train_tsdf.freq),\n",
    "        )\n",
    "        \n",
    "        mase_score = mase_computer.compute_metric(\n",
    "            data_future=test_tsdf_ground_truth.loc[[item_id]], #.slice_by_timestep(-prediction_length - 1, -1),\n",
    "            predictions=pred.loc[[item_id]],\n",
    "        )\n",
    "        \n",
    "        mase_results.append({\n",
    "            'item_id': item_id,\n",
    "            'mase_score': mase_score\n",
    "        })\n",
    "    \n",
    "    # Create DataFrame with individual results\n",
    "    results_df = pd.DataFrame(mase_results)\n",
    "    \n",
    "    # Add average row\n",
    "    average_mase = results_df['mase_score'].mean()\n",
    "    average_row = pd.DataFrame({\n",
    "        'item_id': ['AVERAGE'],\n",
    "        'mase_score': [average_mase]\n",
    "    })\n",
    "    \n",
    "    # Combine results\n",
    "    final_results = pd.concat([results_df, average_row], ignore_index=True)\n",
    "    \n",
    "    return final_results"
   ]
  },
  {
   "cell_type": "markdown",
   "metadata": {},
   "source": [
    "## Available Datasets\n",
    "Let's see what datasets are available in GIFT-Eval."
   ]
  },
  {
   "cell_type": "code",
   "execution_count": 39,
   "metadata": {},
   "outputs": [
    {
     "name": "stdout",
     "output_type": "stream",
     "text": [
      "Available datasets: 55\n",
      "1. LOOP_SEATTLE/5T\n",
      "2. restaurant\n",
      "3. m4_weekly\n",
      "4. solar/D\n",
      "5. ett1/D\n",
      "6. ett2/15T\n",
      "7. m4_hourly\n",
      "8. us_births/M\n",
      "9. electricity/15T\n",
      "10. saugeenday/M\n",
      "11. bitbrains_rnd/H\n",
      "12. LOOP_SEATTLE/H\n",
      "13. LOOP_SEATTLE/D\n",
      "14. m4_quarterly\n",
      "15. electricity/D\n",
      "16. hospital\n",
      "17. solar/10T\n",
      "18. kdd_cup_2018_with_missing/H\n",
      "19. saugeenday/W\n",
      "20. ett1/W\n",
      "21. bitbrains_fast_storage/5T\n",
      "22. bizitobs_l2c/H\n",
      "23. covid_deaths\n",
      "24. m4_monthly\n",
      "25. electricity/H\n",
      "26. car_parts_with_missing\n",
      "27. ett1/15T\n",
      "28. jena_weather/10T\n",
      "29. hierarchical_sales/W\n",
      "30. SZ_TAXI/15T\n",
      "31. bitbrains_fast_storage/H\n",
      "32. us_births/D\n",
      "33. ett2/D\n",
      "34. temperature_rain_with_missing\n",
      "35. ett2/W\n",
      "36. jena_weather/D\n",
      "37. kdd_cup_2018_with_missing/D\n",
      "38. hierarchical_sales/D\n",
      "39. ett1/H\n",
      "40. bizitobs_l2c/5T\n",
      "41. m4_daily\n",
      "42. jena_weather/H\n",
      "43. us_births/W\n",
      "44. ett2/H\n",
      "45. m4_yearly\n",
      "46. bitbrains_rnd/5T\n",
      "47. solar/H\n",
      "48. bizitobs_service\n",
      "49. electricity/W\n",
      "50. SZ_TAXI/H\n",
      "51. M_DENSE/H\n",
      "52. M_DENSE/D\n",
      "53. solar/W\n",
      "54. bizitobs_application\n",
      "55. saugeenday/D\n"
     ]
    }
   ],
   "source": [
    "# Print available datasets\n",
    "print(f\"Available datasets: {len(ALL_DATASETS)}\")\n",
    "for i, dataset in enumerate(ALL_DATASETS):\n",
    "    print(f\"{i+1}. {dataset}\")"
   ]
  },
  {
   "cell_type": "code",
   "execution_count": 25,
   "metadata": {},
   "outputs": [],
   "source": [
    "HUGE_DATASETS = [\n",
    "    \"bitbrains_rnd/5T\",\n",
    "    \"bitbrains_fast_storage/5T\",\n",
    "    \"electricity/15T\",\n",
    "    \"LOOP_SEATTLE/5T\",\n",
    "    \"LOOP_SEATTLE/H\",\n",
    "    \"temperature_rain_with_missing\",\n",
    "]"
   ]
  },
  {
   "cell_type": "markdown",
   "metadata": {},
   "source": [
    "## Visualization"
   ]
  },
  {
   "cell_type": "code",
   "execution_count": 26,
   "metadata": {},
   "outputs": [],
   "source": [
    "dataset_storage_path = Path(\"gift_eval/data\")\n"
   ]
  },
  {
   "cell_type": "code",
   "execution_count": null,
   "metadata": {},
   "outputs": [],
   "source": [
    "dataset = load_dataset(dataset_name, term, dataset_storage_path)"
   ]
  },
  {
   "cell_type": "code",
   "execution_count": null,
   "metadata": {},
   "outputs": [],
   "source": [
    "# sub_datasets bizitobs_service"
   ]
  },
  {
   "cell_type": "code",
   "execution_count": null,
   "metadata": {},
   "outputs": [],
   "source": []
  },
  {
   "cell_type": "code",
   "execution_count": 98,
   "metadata": {},
   "outputs": [
    {
     "name": "stdout",
     "output_type": "stream",
     "text": [
      "\n",
      "## Dataset: ett2/15T (term: short)\n",
      "Prediction length: 48\n",
      "Frequency: 15T\n",
      "Target dimension: 7\n",
      "Dataset full name: ett2/15T/short\n"
     ]
    },
    {
     "data": {
      "text/plain": [
       "({'item_id': 'item_0_dim0',\n",
       "  'start': Period('2016-07-01 00:00', '15T'),\n",
       "  'freq': '15T',\n",
       "  'target': array([41.13 , 39.622, 38.868, ..., 30.827, 31.497, 31.329], dtype=float32)},\n",
       " {'item_id': 'item_0_dim0',\n",
       "  'start': Period('2018-06-16 20:00', '15T'),\n",
       "  'freq': '15T',\n",
       "  'target': array([34.01 , 34.847, 37.109, 34.094, 36.272, 40.46 , 43.224, 39.455,\n",
       "         40.125, 43.559, 44.229, 39.036, 39.622, 38.868, 38.868, 40.292,\n",
       "         36.69 , 34.68 , 34.429, 36.607, 37.277, 33.591, 31.916, 29.738,\n",
       "         32.167, 35.853, 35.518, 33.591, 33.005, 28.984, 33.423, 31.916,\n",
       "         31.581, 29.905, 27.057, 24.293, 30.073, 29.821, 26.89 , 26.806,\n",
       "         29.989, 34.094, 31.413, 33.172, 30.827, 32.502, 30.408, 29.486],\n",
       "        dtype=float32)})"
      ]
     },
     "execution_count": 98,
     "metadata": {},
     "output_type": "execute_result"
    }
   ],
   "source": [
    "dataset_name = \"ett2/15T\"\n",
    "term = \"short\"\n",
    "print(f\"\\n## Dataset: {dataset_name} (term: {term})\")\n",
    "    \n",
    "# Use construct_evaluation_data to get dataset\n",
    "sub_datasets = construct_evaluation_data(\n",
    "    dataset_name=dataset_name,\n",
    "    dataset_storage_path=dataset_storage_path,\n",
    "    terms=[term]\n",
    ")\n",
    "\n",
    "if not sub_datasets:\n",
    "    print(f\"No datasets found for {dataset_name} with term {term}\")\n",
    "    # return\n",
    "\n",
    "# Get the first dataset that matches the term\n",
    "dataset, dataset_metadata = sub_datasets[0]\n",
    "\n",
    "print(f\"Prediction length: {dataset.prediction_length}\")\n",
    "print(f\"Frequency: {dataset.freq}\")\n",
    "print(f\"Target dimension: {dataset.target_dim}\")\n",
    "print(f\"Dataset full name: {dataset_metadata['full_name']}\")\n",
    "\n",
    "# Generate predictions\n",
    "# train_tsdf, test_tsdf, predictions = get_predictions(dataset, 2)\n",
    "# train_tsdf\n",
    "list(dataset.test_data)[0]\n",
    "# dataset.test_data.dataset\n",
    "\n",
    "# Generate predictions\n",
    "# train_tsdf, test_tsdf, predictions = get_predictions(dataset, 2)\n",
    "# train_tsdf\n",
    "\n",
    "# # Convert to TimeSeriesDataFrame\n",
    "# train_tsdf = convert_to_tsdf(train_tsdf, is_train=True)\n",
    "# test_tsdf = convert_to_tsdf(test_tsdf, is_train=False)"
   ]
  },
  {
   "cell_type": "code",
   "execution_count": 75,
   "metadata": {},
   "outputs": [
    {
     "data": {
      "text/plain": [
       "dict_keys(['base_dataset', 'transformation', 'is_train'])"
      ]
     },
     "execution_count": 75,
     "metadata": {},
     "output_type": "execute_result"
    }
   ],
   "source": [
    "dataset.gluonts_dataset."
   ]
  },
  {
   "cell_type": "code",
   "execution_count": 78,
   "metadata": {},
   "outputs": [
    {
     "data": {
      "text/plain": [
       "DatasetDict({\n",
       "    train: Dataset({\n",
       "        features: ['id', 'timestamp', 'target'],\n",
       "        num_rows: 366\n",
       "    })\n",
       "})"
      ]
     },
     "execution_count": 78,
     "metadata": {},
     "output_type": "execute_result"
    }
   ],
   "source": [
    "from datasets import load_dataset as chronos_load_dataset\n",
    "dataset = chronos_load_dataset(\"autogluon/chronos_datasets\", \"monash_tourism_monthly\")\n",
    "dataset"
   ]
  },
  {
   "cell_type": "code",
   "execution_count": 62,
   "metadata": {},
   "outputs": [
    {
     "name": "stderr",
     "output_type": "stream",
     "text": [
      "/home/turbo/rosenyu/Github/tabpfn-time-series-exp/tabpfn_time_series/features/feature_transformer.py:24: FutureWarning: The behavior of DataFrame concatenation with empty or all-NA entries is deprecated. In a future version, this will no longer exclude empty or all-NA columns when determining the result dtypes. To retain the old behavior, exclude the relevant entries before the concat operation.\n",
      "  tsdf = pd.concat([train_tsdf, test_tsdf])\n"
     ]
    },
    {
     "name": "stdout",
     "output_type": "stream",
     "text": [
      "\n",
      "## Dataset: solar/W (term: short)\n",
      "Prediction length: 8\n",
      "Frequency: W-FRI\n",
      "Target dimension: 1\n",
      "Dataset full name: solar/W/short\n"
     ]
    },
    {
     "name": "stderr",
     "output_type": "stream",
     "text": [
      "GPU 0:: 100%|██████████| 1/1 [00:00<00:00,  3.56it/s]\n"
     ]
    },
    {
     "name": "stdout",
     "output_type": "stream",
     "text": [
      "\n",
      "Ground truth and predictions:\n"
     ]
    },
    {
     "data": {
      "image/png": "[encoded data removed]",
      "text/plain": [
       "<Figure size 1000x300 with 1 Axes>"
      ]
     },
     "metadata": {},
     "output_type": "display_data"
    },
    {
     "data": {
      "text/html": [
       "<div>\n",
       "<style scoped>\n",
       "    .dataframe tbody tr th:only-of-type {\n",
       "        vertical-align: middle;\n",
       "    }\n",
       "\n",
       "    .dataframe tbody tr th {\n",
       "        vertical-align: top;\n",
       "    }\n",
       "\n",
       "    .dataframe thead th {\n",
       "        text-align: right;\n",
       "    }\n",
       "</style>\n",
       "<table border=\"1\" class=\"dataframe\">\n",
       "  <thead>\n",
       "    <tr style=\"text-align: right;\">\n",
       "      <th></th>\n",
       "      <th>item_id</th>\n",
       "      <th>mase_score</th>\n",
       "    </tr>\n",
       "  </thead>\n",
       "  <tbody>\n",
       "    <tr>\n",
       "      <th>0</th>\n",
       "      <td>0</td>\n",
       "      <td>0.571689</td>\n",
       "    </tr>\n",
       "    <tr>\n",
       "      <th>1</th>\n",
       "      <td>AVERAGE</td>\n",
       "      <td>0.571689</td>\n",
       "    </tr>\n",
       "  </tbody>\n",
       "</table>\n",
       "</div>"
      ],
      "text/plain": [
       "   item_id  mase_score\n",
       "0        0    0.571689\n",
       "1  AVERAGE    0.571689"
      ]
     },
     "execution_count": 62,
     "metadata": {},
     "output_type": "execute_result"
    }
   ],
   "source": [
    "mase_results = visualize_dataset(\"solar/W\", term=\"short\")\n",
    "mase_results"
   ]
  },
  {
   "cell_type": "code",
   "execution_count": 68,
   "metadata": {},
   "outputs": [
    {
     "name": "stderr",
     "output_type": "stream",
     "text": [
      "/home/turbo/rosenyu/Github/tabpfn-time-series-exp/tabpfn_time_series/features/feature_transformer.py:24: FutureWarning: The behavior of DataFrame concatenation with empty or all-NA entries is deprecated. In a future version, this will no longer exclude empty or all-NA columns when determining the result dtypes. To retain the old behavior, exclude the relevant entries before the concat operation.\n",
      "  tsdf = pd.concat([train_tsdf, test_tsdf])\n"
     ]
    },
    {
     "name": "stdout",
     "output_type": "stream",
     "text": [
      "\n",
      "## Dataset: ett2/15T (term: short)\n",
      "Prediction length: 48\n",
      "Frequency: 15T\n",
      "Target dimension: 7\n",
      "possible item ids: dict_keys(['hf_dataset', 'freq', 'target_dim', 'gluonts_dataset', 'term', 'name', 'prediction_length'])\n"
     ]
    },
    {
     "name": "stderr",
     "output_type": "stream",
     "text": [
      "GPU 0::   0%|          | 0/1 [00:00<?, ?it/s]"
     ]
    },
    {
     "name": "stderr",
     "output_type": "stream",
     "text": [
      "GPU 0:: 100%|██████████| 1/1 [00:01<00:00,  1.01s/it]\n"
     ]
    },
    {
     "name": "stdout",
     "output_type": "stream",
     "text": [
      "Number of time series: Index([0], dtype='int64', name='item_id')\n",
      "train_tsdf.item_ids: Index([0], dtype='int64', name='item_id')\n",
      "\n",
      "Ground truth and predictions for multiple items:\n"
     ]
    },
    {
     "data": {
      "image/png": "[encoded data removed]",
      "text/plain": [
       "<Figure size 1000x300 with 1 Axes>"
      ]
     },
     "metadata": {},
     "output_type": "display_data"
    },
    {
     "data": {
      "text/html": [
       "<div>\n",
       "<style scoped>\n",
       "    .dataframe tbody tr th:only-of-type {\n",
       "        vertical-align: middle;\n",
       "    }\n",
       "\n",
       "    .dataframe tbody tr th {\n",
       "        vertical-align: top;\n",
       "    }\n",
       "\n",
       "    .dataframe thead th {\n",
       "        text-align: right;\n",
       "    }\n",
       "</style>\n",
       "<table border=\"1\" class=\"dataframe\">\n",
       "  <thead>\n",
       "    <tr style=\"text-align: right;\">\n",
       "      <th></th>\n",
       "      <th>item_id</th>\n",
       "      <th>mase_score</th>\n",
       "    </tr>\n",
       "  </thead>\n",
       "  <tbody>\n",
       "    <tr>\n",
       "      <th>0</th>\n",
       "      <td>0</td>\n",
       "      <td>2.359851</td>\n",
       "    </tr>\n",
       "    <tr>\n",
       "      <th>1</th>\n",
       "      <td>AVERAGE</td>\n",
       "      <td>2.359851</td>\n",
       "    </tr>\n",
       "  </tbody>\n",
       "</table>\n",
       "</div>"
      ],
      "text/plain": [
       "   item_id  mase_score\n",
       "0        0    2.359851\n",
       "1  AVERAGE    2.359851"
      ]
     },
     "execution_count": 68,
     "metadata": {},
     "output_type": "execute_result"
    }
   ],
   "source": [
    "mase_results = visualize_multiple_items(\"ett2/15T\", term=\"short\", item_ids=[0, 1, 6])\n",
    "mase_results"
   ]
  },
  {
   "cell_type": "code",
   "execution_count": null,
   "metadata": {},
   "outputs": [],
   "source": []
  }
 ],
 "metadata": {
  "kernelspec": {
   "display_name": "rosen_time_series",
   "language": "python",
   "name": "time_series"
  },
  "language_info": {
   "codemirror_mode": {
    "name": "ipython",
    "version": 3
   },
   "file_extension": ".py",
   "mimetype": "text/x-python",
   "name": "python",
   "nbconvert_exporter": "python",
   "pygments_lexer": "ipython3",
   "version": "3.10.18"
  }
 },
 "nbformat": 4,
 "nbformat_minor": 2
}
